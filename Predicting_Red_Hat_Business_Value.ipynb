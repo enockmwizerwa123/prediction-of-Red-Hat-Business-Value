{
  "nbformat": 4,
  "nbformat_minor": 0,
  "metadata": {
    "colab": {
      "provenance": []
    },
    "kernelspec": {
      "name": "python3",
      "display_name": "Python 3"
    },
    "language_info": {
      "name": "python"
    }
  },
  "cells": [
    {
      "cell_type": "code",
      "execution_count": null,
      "metadata": {
        "id": "HG3BNTDc4GVo"
      },
      "outputs": [],
      "source": [
        "#import the necessary libraries\n",
        "import pandas as pd\n",
        "import numpy as np\n",
        "import matplotlib.pyplot as plt\n",
        "import seaborn as sns\n",
        "import warnings\n",
        "warnings.filterwarnings(\"ignore\")"
      ]
    },
    {
      "cell_type": "code",
      "source": [],
      "metadata": {
        "id": "GRbQNU-m4zNL"
      },
      "execution_count": null,
      "outputs": []
    },
    {
      "cell_type": "markdown",
      "source": [
        "# **Loading the Datasets** "
      ],
      "metadata": {
        "id": "qe11cGd45D1Z"
      }
    },
    {
      "cell_type": "code",
      "source": [
        "#loading the train dataset\n",
        "train =pd.read_csv(\"/content/act_train.csv\")\n",
        "train.info()"
      ],
      "metadata": {
        "colab": {
          "base_uri": "https://localhost:8080/"
        },
        "id": "7AIekqsd5LUr",
        "outputId": "f66d7ac1-abae-4dd5-f290-4d94473858ff"
      },
      "execution_count": null,
      "outputs": [
        {
          "output_type": "stream",
          "name": "stdout",
          "text": [
            "<class 'pandas.core.frame.DataFrame'>\n",
            "RangeIndex: 735379 entries, 0 to 735378\n",
            "Data columns (total 15 columns):\n",
            " #   Column             Non-Null Count   Dtype  \n",
            "---  ------             --------------   -----  \n",
            " 0   people_id          735379 non-null  object \n",
            " 1   activity_id        735379 non-null  object \n",
            " 2   date               735378 non-null  object \n",
            " 3   activity_category  735378 non-null  object \n",
            " 4   char_1             55435 non-null   object \n",
            " 5   char_2             55435 non-null   object \n",
            " 6   char_3             55435 non-null   object \n",
            " 7   char_4             55435 non-null   object \n",
            " 8   char_5             55435 non-null   object \n",
            " 9   char_6             55435 non-null   object \n",
            " 10  char_7             55435 non-null   object \n",
            " 11  char_8             55435 non-null   object \n",
            " 12  char_9             55435 non-null   object \n",
            " 13  char_10            679943 non-null  object \n",
            " 14  outcome            735378 non-null  float64\n",
            "dtypes: float64(1), object(14)\n",
            "memory usage: 84.2+ MB\n"
          ]
        }
      ]
    },
    {
      "cell_type": "code",
      "source": [
        "#loading the test dataset\n",
        "test =pd.read_csv(\"/content/act_test.csv\")\n",
        "test.info()"
      ],
      "metadata": {
        "colab": {
          "base_uri": "https://localhost:8080/"
        },
        "id": "gvDu3Zqh5ei7",
        "outputId": "b63fcfaa-92ec-4722-a7ce-4ecdb6866b04"
      },
      "execution_count": null,
      "outputs": [
        {
          "output_type": "stream",
          "name": "stdout",
          "text": [
            "<class 'pandas.core.frame.DataFrame'>\n",
            "RangeIndex: 498687 entries, 0 to 498686\n",
            "Data columns (total 14 columns):\n",
            " #   Column             Non-Null Count   Dtype \n",
            "---  ------             --------------   ----- \n",
            " 0   people_id          498687 non-null  object\n",
            " 1   activity_id        498687 non-null  object\n",
            " 2   date               498687 non-null  object\n",
            " 3   activity_category  498687 non-null  object\n",
            " 4   char_1             40092 non-null   object\n",
            " 5   char_2             40092 non-null   object\n",
            " 6   char_3             40092 non-null   object\n",
            " 7   char_4             40092 non-null   object\n",
            " 8   char_5             40092 non-null   object\n",
            " 9   char_6             40092 non-null   object\n",
            " 10  char_7             40092 non-null   object\n",
            " 11  char_8             40092 non-null   object\n",
            " 12  char_9             40092 non-null   object\n",
            " 13  char_10            458595 non-null  object\n",
            "dtypes: object(14)\n",
            "memory usage: 53.3+ MB\n"
          ]
        }
      ]
    },
    {
      "cell_type": "code",
      "source": [
        "#loading the customer dataset\n",
        "people =pd.read_csv(\"/content/people.csv\")\n",
        "people.info()"
      ],
      "metadata": {
        "colab": {
          "base_uri": "https://localhost:8080/"
        },
        "id": "VJZmLLxO5jLj",
        "outputId": "0aa95986-c94e-496a-d78a-36962a648f4b"
      },
      "execution_count": null,
      "outputs": [
        {
          "output_type": "stream",
          "name": "stdout",
          "text": [
            "<class 'pandas.core.frame.DataFrame'>\n",
            "RangeIndex: 120316 entries, 0 to 120315\n",
            "Data columns (total 41 columns):\n",
            " #   Column     Non-Null Count   Dtype  \n",
            "---  ------     --------------   -----  \n",
            " 0   people_id  120316 non-null  object \n",
            " 1   char_1     120316 non-null  object \n",
            " 2   group_1    120316 non-null  object \n",
            " 3   char_2     120315 non-null  object \n",
            " 4   date       120315 non-null  object \n",
            " 5   char_3     120315 non-null  object \n",
            " 6   char_4     120315 non-null  object \n",
            " 7   char_5     120315 non-null  object \n",
            " 8   char_6     120315 non-null  object \n",
            " 9   char_7     120315 non-null  object \n",
            " 10  char_8     120315 non-null  object \n",
            " 11  char_9     120315 non-null  object \n",
            " 12  char_10    120315 non-null  object \n",
            " 13  char_11    120315 non-null  object \n",
            " 14  char_12    120315 non-null  object \n",
            " 15  char_13    120315 non-null  object \n",
            " 16  char_14    120315 non-null  object \n",
            " 17  char_15    120315 non-null  object \n",
            " 18  char_16    120315 non-null  object \n",
            " 19  char_17    120315 non-null  object \n",
            " 20  char_18    120315 non-null  object \n",
            " 21  char_19    120315 non-null  object \n",
            " 22  char_20    120315 non-null  object \n",
            " 23  char_21    120315 non-null  object \n",
            " 24  char_22    120315 non-null  object \n",
            " 25  char_23    120315 non-null  object \n",
            " 26  char_24    120315 non-null  object \n",
            " 27  char_25    120315 non-null  object \n",
            " 28  char_26    120315 non-null  object \n",
            " 29  char_27    120315 non-null  object \n",
            " 30  char_28    120315 non-null  object \n",
            " 31  char_29    120315 non-null  object \n",
            " 32  char_30    120315 non-null  object \n",
            " 33  char_31    120315 non-null  object \n",
            " 34  char_32    120315 non-null  object \n",
            " 35  char_33    120315 non-null  object \n",
            " 36  char_34    120315 non-null  object \n",
            " 37  char_35    120315 non-null  object \n",
            " 38  char_36    120315 non-null  object \n",
            " 39  char_37    120315 non-null  object \n",
            " 40  char_38    120315 non-null  float64\n",
            "dtypes: float64(1), object(40)\n",
            "memory usage: 37.6+ MB\n"
          ]
        }
      ]
    },
    {
      "cell_type": "markdown",
      "source": [
        "**Check for the nummber of Null Values in all Data set**"
      ],
      "metadata": {
        "id": "ehf2eKh_7HIw"
      }
    },
    {
      "cell_type": "code",
      "source": [
        "train.isnull().sum()"
      ],
      "metadata": {
        "colab": {
          "base_uri": "https://localhost:8080/"
        },
        "id": "9EyO0_0N7TWZ",
        "outputId": "2f3b7d1e-a6c1-4477-f3d6-449249ce89de"
      },
      "execution_count": null,
      "outputs": [
        {
          "output_type": "execute_result",
          "data": {
            "text/plain": [
              "people_id                 0\n",
              "activity_id               0\n",
              "date                      1\n",
              "activity_category         1\n",
              "char_1               679944\n",
              "char_2               679944\n",
              "char_3               679944\n",
              "char_4               679944\n",
              "char_5               679944\n",
              "char_6               679944\n",
              "char_7               679944\n",
              "char_8               679944\n",
              "char_9               679944\n",
              "char_10               55436\n",
              "outcome                   1\n",
              "dtype: int64"
            ]
          },
          "metadata": {},
          "execution_count": 8
        }
      ]
    },
    {
      "cell_type": "code",
      "source": [
        "test.isnull().sum()"
      ],
      "metadata": {
        "colab": {
          "base_uri": "https://localhost:8080/"
        },
        "id": "2eULFQwT7WPv",
        "outputId": "c577431d-153d-4d03-ec83-615585ce3a02"
      },
      "execution_count": null,
      "outputs": [
        {
          "output_type": "execute_result",
          "data": {
            "text/plain": [
              "people_id                 0\n",
              "activity_id               0\n",
              "date                      0\n",
              "activity_category         0\n",
              "char_1               458595\n",
              "char_2               458595\n",
              "char_3               458595\n",
              "char_4               458595\n",
              "char_5               458595\n",
              "char_6               458595\n",
              "char_7               458595\n",
              "char_8               458595\n",
              "char_9               458595\n",
              "char_10               40092\n",
              "dtype: int64"
            ]
          },
          "metadata": {},
          "execution_count": 9
        }
      ]
    },
    {
      "cell_type": "code",
      "source": [
        "people.isnull().sum()"
      ],
      "metadata": {
        "colab": {
          "base_uri": "https://localhost:8080/"
        },
        "id": "UuyDAuPb7iKn",
        "outputId": "747f6d2a-a451-46d8-e977-a928356796e0"
      },
      "execution_count": null,
      "outputs": [
        {
          "output_type": "execute_result",
          "data": {
            "text/plain": [
              "people_id    0\n",
              "char_1       0\n",
              "group_1      0\n",
              "char_2       1\n",
              "date         1\n",
              "char_3       1\n",
              "char_4       1\n",
              "char_5       1\n",
              "char_6       1\n",
              "char_7       1\n",
              "char_8       1\n",
              "char_9       1\n",
              "char_10      1\n",
              "char_11      1\n",
              "char_12      1\n",
              "char_13      1\n",
              "char_14      1\n",
              "char_15      1\n",
              "char_16      1\n",
              "char_17      1\n",
              "char_18      1\n",
              "char_19      1\n",
              "char_20      1\n",
              "char_21      1\n",
              "char_22      1\n",
              "char_23      1\n",
              "char_24      1\n",
              "char_25      1\n",
              "char_26      1\n",
              "char_27      1\n",
              "char_28      1\n",
              "char_29      1\n",
              "char_30      1\n",
              "char_31      1\n",
              "char_32      1\n",
              "char_33      1\n",
              "char_34      1\n",
              "char_35      1\n",
              "char_36      1\n",
              "char_37      1\n",
              "char_38      1\n",
              "dtype: int64"
            ]
          },
          "metadata": {},
          "execution_count": 10
        }
      ]
    },
    {
      "cell_type": "code",
      "source": [
        "train.head()"
      ],
      "metadata": {
        "colab": {
          "base_uri": "https://localhost:8080/",
          "height": 357
        },
        "id": "FetyxMs48E54",
        "outputId": "1f768ab0-a983-49ef-a741-a9fec2e43490"
      },
      "execution_count": null,
      "outputs": [
        {
          "output_type": "execute_result",
          "data": {
            "text/plain": [
              "  people_id   activity_id        date activity_category char_1 char_2 char_3  \\\n",
              "0   ppl_100  act2_1734928  2023-08-26            type 4    NaN    NaN    NaN   \n",
              "1   ppl_100  act2_2434093  2022-09-27            type 2    NaN    NaN    NaN   \n",
              "2   ppl_100  act2_3404049  2022-09-27            type 2    NaN    NaN    NaN   \n",
              "3   ppl_100  act2_3651215  2023-08-04            type 2    NaN    NaN    NaN   \n",
              "4   ppl_100  act2_4109017  2023-08-26            type 2    NaN    NaN    NaN   \n",
              "\n",
              "  char_4 char_5 char_6 char_7 char_8 char_9  char_10  outcome  \n",
              "0    NaN    NaN    NaN    NaN    NaN    NaN  type 76      0.0  \n",
              "1    NaN    NaN    NaN    NaN    NaN    NaN   type 1      0.0  \n",
              "2    NaN    NaN    NaN    NaN    NaN    NaN   type 1      0.0  \n",
              "3    NaN    NaN    NaN    NaN    NaN    NaN   type 1      0.0  \n",
              "4    NaN    NaN    NaN    NaN    NaN    NaN   type 1      0.0  "
            ],
            "text/html": [
              "\n",
              "  <div id=\"df-d2c5dd91-c989-4b3c-a399-7f26b38d767d\">\n",
              "    <div class=\"colab-df-container\">\n",
              "      <div>\n",
              "<style scoped>\n",
              "    .dataframe tbody tr th:only-of-type {\n",
              "        vertical-align: middle;\n",
              "    }\n",
              "\n",
              "    .dataframe tbody tr th {\n",
              "        vertical-align: top;\n",
              "    }\n",
              "\n",
              "    .dataframe thead th {\n",
              "        text-align: right;\n",
              "    }\n",
              "</style>\n",
              "<table border=\"1\" class=\"dataframe\">\n",
              "  <thead>\n",
              "    <tr style=\"text-align: right;\">\n",
              "      <th></th>\n",
              "      <th>people_id</th>\n",
              "      <th>activity_id</th>\n",
              "      <th>date</th>\n",
              "      <th>activity_category</th>\n",
              "      <th>char_1</th>\n",
              "      <th>char_2</th>\n",
              "      <th>char_3</th>\n",
              "      <th>char_4</th>\n",
              "      <th>char_5</th>\n",
              "      <th>char_6</th>\n",
              "      <th>char_7</th>\n",
              "      <th>char_8</th>\n",
              "      <th>char_9</th>\n",
              "      <th>char_10</th>\n",
              "      <th>outcome</th>\n",
              "    </tr>\n",
              "  </thead>\n",
              "  <tbody>\n",
              "    <tr>\n",
              "      <th>0</th>\n",
              "      <td>ppl_100</td>\n",
              "      <td>act2_1734928</td>\n",
              "      <td>2023-08-26</td>\n",
              "      <td>type 4</td>\n",
              "      <td>NaN</td>\n",
              "      <td>NaN</td>\n",
              "      <td>NaN</td>\n",
              "      <td>NaN</td>\n",
              "      <td>NaN</td>\n",
              "      <td>NaN</td>\n",
              "      <td>NaN</td>\n",
              "      <td>NaN</td>\n",
              "      <td>NaN</td>\n",
              "      <td>type 76</td>\n",
              "      <td>0.0</td>\n",
              "    </tr>\n",
              "    <tr>\n",
              "      <th>1</th>\n",
              "      <td>ppl_100</td>\n",
              "      <td>act2_2434093</td>\n",
              "      <td>2022-09-27</td>\n",
              "      <td>type 2</td>\n",
              "      <td>NaN</td>\n",
              "      <td>NaN</td>\n",
              "      <td>NaN</td>\n",
              "      <td>NaN</td>\n",
              "      <td>NaN</td>\n",
              "      <td>NaN</td>\n",
              "      <td>NaN</td>\n",
              "      <td>NaN</td>\n",
              "      <td>NaN</td>\n",
              "      <td>type 1</td>\n",
              "      <td>0.0</td>\n",
              "    </tr>\n",
              "    <tr>\n",
              "      <th>2</th>\n",
              "      <td>ppl_100</td>\n",
              "      <td>act2_3404049</td>\n",
              "      <td>2022-09-27</td>\n",
              "      <td>type 2</td>\n",
              "      <td>NaN</td>\n",
              "      <td>NaN</td>\n",
              "      <td>NaN</td>\n",
              "      <td>NaN</td>\n",
              "      <td>NaN</td>\n",
              "      <td>NaN</td>\n",
              "      <td>NaN</td>\n",
              "      <td>NaN</td>\n",
              "      <td>NaN</td>\n",
              "      <td>type 1</td>\n",
              "      <td>0.0</td>\n",
              "    </tr>\n",
              "    <tr>\n",
              "      <th>3</th>\n",
              "      <td>ppl_100</td>\n",
              "      <td>act2_3651215</td>\n",
              "      <td>2023-08-04</td>\n",
              "      <td>type 2</td>\n",
              "      <td>NaN</td>\n",
              "      <td>NaN</td>\n",
              "      <td>NaN</td>\n",
              "      <td>NaN</td>\n",
              "      <td>NaN</td>\n",
              "      <td>NaN</td>\n",
              "      <td>NaN</td>\n",
              "      <td>NaN</td>\n",
              "      <td>NaN</td>\n",
              "      <td>type 1</td>\n",
              "      <td>0.0</td>\n",
              "    </tr>\n",
              "    <tr>\n",
              "      <th>4</th>\n",
              "      <td>ppl_100</td>\n",
              "      <td>act2_4109017</td>\n",
              "      <td>2023-08-26</td>\n",
              "      <td>type 2</td>\n",
              "      <td>NaN</td>\n",
              "      <td>NaN</td>\n",
              "      <td>NaN</td>\n",
              "      <td>NaN</td>\n",
              "      <td>NaN</td>\n",
              "      <td>NaN</td>\n",
              "      <td>NaN</td>\n",
              "      <td>NaN</td>\n",
              "      <td>NaN</td>\n",
              "      <td>type 1</td>\n",
              "      <td>0.0</td>\n",
              "    </tr>\n",
              "  </tbody>\n",
              "</table>\n",
              "</div>\n",
              "      <button class=\"colab-df-convert\" onclick=\"convertToInteractive('df-d2c5dd91-c989-4b3c-a399-7f26b38d767d')\"\n",
              "              title=\"Convert this dataframe to an interactive table.\"\n",
              "              style=\"display:none;\">\n",
              "        \n",
              "  <svg xmlns=\"http://www.w3.org/2000/svg\" height=\"24px\"viewBox=\"0 0 24 24\"\n",
              "       width=\"24px\">\n",
              "    <path d=\"M0 0h24v24H0V0z\" fill=\"none\"/>\n",
              "    <path d=\"M18.56 5.44l.94 2.06.94-2.06 2.06-.94-2.06-.94-.94-2.06-.94 2.06-2.06.94zm-11 1L8.5 8.5l.94-2.06 2.06-.94-2.06-.94L8.5 2.5l-.94 2.06-2.06.94zm10 10l.94 2.06.94-2.06 2.06-.94-2.06-.94-.94-2.06-.94 2.06-2.06.94z\"/><path d=\"M17.41 7.96l-1.37-1.37c-.4-.4-.92-.59-1.43-.59-.52 0-1.04.2-1.43.59L10.3 9.45l-7.72 7.72c-.78.78-.78 2.05 0 2.83L4 21.41c.39.39.9.59 1.41.59.51 0 1.02-.2 1.41-.59l7.78-7.78 2.81-2.81c.8-.78.8-2.07 0-2.86zM5.41 20L4 18.59l7.72-7.72 1.47 1.35L5.41 20z\"/>\n",
              "  </svg>\n",
              "      </button>\n",
              "      \n",
              "  <style>\n",
              "    .colab-df-container {\n",
              "      display:flex;\n",
              "      flex-wrap:wrap;\n",
              "      gap: 12px;\n",
              "    }\n",
              "\n",
              "    .colab-df-convert {\n",
              "      background-color: #E8F0FE;\n",
              "      border: none;\n",
              "      border-radius: 50%;\n",
              "      cursor: pointer;\n",
              "      display: none;\n",
              "      fill: #1967D2;\n",
              "      height: 32px;\n",
              "      padding: 0 0 0 0;\n",
              "      width: 32px;\n",
              "    }\n",
              "\n",
              "    .colab-df-convert:hover {\n",
              "      background-color: #E2EBFA;\n",
              "      box-shadow: 0px 1px 2px rgba(60, 64, 67, 0.3), 0px 1px 3px 1px rgba(60, 64, 67, 0.15);\n",
              "      fill: #174EA6;\n",
              "    }\n",
              "\n",
              "    [theme=dark] .colab-df-convert {\n",
              "      background-color: #3B4455;\n",
              "      fill: #D2E3FC;\n",
              "    }\n",
              "\n",
              "    [theme=dark] .colab-df-convert:hover {\n",
              "      background-color: #434B5C;\n",
              "      box-shadow: 0px 1px 3px 1px rgba(0, 0, 0, 0.15);\n",
              "      filter: drop-shadow(0px 1px 2px rgba(0, 0, 0, 0.3));\n",
              "      fill: #FFFFFF;\n",
              "    }\n",
              "  </style>\n",
              "\n",
              "      <script>\n",
              "        const buttonEl =\n",
              "          document.querySelector('#df-d2c5dd91-c989-4b3c-a399-7f26b38d767d button.colab-df-convert');\n",
              "        buttonEl.style.display =\n",
              "          google.colab.kernel.accessAllowed ? 'block' : 'none';\n",
              "\n",
              "        async function convertToInteractive(key) {\n",
              "          const element = document.querySelector('#df-d2c5dd91-c989-4b3c-a399-7f26b38d767d');\n",
              "          const dataTable =\n",
              "            await google.colab.kernel.invokeFunction('convertToInteractive',\n",
              "                                                     [key], {});\n",
              "          if (!dataTable) return;\n",
              "\n",
              "          const docLinkHtml = 'Like what you see? Visit the ' +\n",
              "            '<a target=\"_blank\" href=https://colab.research.google.com/notebooks/data_table.ipynb>data table notebook</a>'\n",
              "            + ' to learn more about interactive tables.';\n",
              "          element.innerHTML = '';\n",
              "          dataTable['output_type'] = 'display_data';\n",
              "          await google.colab.output.renderOutput(dataTable, element);\n",
              "          const docLink = document.createElement('div');\n",
              "          docLink.innerHTML = docLinkHtml;\n",
              "          element.appendChild(docLink);\n",
              "        }\n",
              "      </script>\n",
              "    </div>\n",
              "  </div>\n",
              "  "
            ]
          },
          "metadata": {},
          "execution_count": 11
        }
      ]
    },
    {
      "cell_type": "code",
      "source": [
        "test.head()"
      ],
      "metadata": {
        "colab": {
          "base_uri": "https://localhost:8080/",
          "height": 357
        },
        "id": "WYEbe4jn8KHM",
        "outputId": "317283cd-fee2-45d0-9b2d-e8434d523a7c"
      },
      "execution_count": null,
      "outputs": [
        {
          "output_type": "execute_result",
          "data": {
            "text/plain": [
              "    people_id   activity_id        date activity_category   char_1   char_2  \\\n",
              "0  ppl_100004   act1_249281  2022-07-20            type 1   type 5  type 10   \n",
              "1  ppl_100004   act2_230855  2022-07-20            type 5      NaN      NaN   \n",
              "2   ppl_10001   act1_240724  2022-10-14            type 1  type 12   type 1   \n",
              "3   ppl_10001    act1_83552  2022-11-27            type 1  type 20  type 10   \n",
              "4   ppl_10001  act2_1043301  2022-10-15            type 5      NaN      NaN   \n",
              "\n",
              "   char_3  char_4  char_5  char_6  char_7   char_8   char_9    char_10  \n",
              "0  type 5  type 1  type 6  type 1  type 1   type 7   type 4        NaN  \n",
              "1     NaN     NaN     NaN     NaN     NaN      NaN      NaN   type 682  \n",
              "2  type 5  type 4  type 6  type 1  type 1  type 13  type 10        NaN  \n",
              "3  type 5  type 4  type 6  type 1  type 1   type 5   type 5        NaN  \n",
              "4     NaN     NaN     NaN     NaN     NaN      NaN      NaN  type 3015  "
            ],
            "text/html": [
              "\n",
              "  <div id=\"df-38d24147-b44f-493a-b7a5-e6d79916d95c\">\n",
              "    <div class=\"colab-df-container\">\n",
              "      <div>\n",
              "<style scoped>\n",
              "    .dataframe tbody tr th:only-of-type {\n",
              "        vertical-align: middle;\n",
              "    }\n",
              "\n",
              "    .dataframe tbody tr th {\n",
              "        vertical-align: top;\n",
              "    }\n",
              "\n",
              "    .dataframe thead th {\n",
              "        text-align: right;\n",
              "    }\n",
              "</style>\n",
              "<table border=\"1\" class=\"dataframe\">\n",
              "  <thead>\n",
              "    <tr style=\"text-align: right;\">\n",
              "      <th></th>\n",
              "      <th>people_id</th>\n",
              "      <th>activity_id</th>\n",
              "      <th>date</th>\n",
              "      <th>activity_category</th>\n",
              "      <th>char_1</th>\n",
              "      <th>char_2</th>\n",
              "      <th>char_3</th>\n",
              "      <th>char_4</th>\n",
              "      <th>char_5</th>\n",
              "      <th>char_6</th>\n",
              "      <th>char_7</th>\n",
              "      <th>char_8</th>\n",
              "      <th>char_9</th>\n",
              "      <th>char_10</th>\n",
              "    </tr>\n",
              "  </thead>\n",
              "  <tbody>\n",
              "    <tr>\n",
              "      <th>0</th>\n",
              "      <td>ppl_100004</td>\n",
              "      <td>act1_249281</td>\n",
              "      <td>2022-07-20</td>\n",
              "      <td>type 1</td>\n",
              "      <td>type 5</td>\n",
              "      <td>type 10</td>\n",
              "      <td>type 5</td>\n",
              "      <td>type 1</td>\n",
              "      <td>type 6</td>\n",
              "      <td>type 1</td>\n",
              "      <td>type 1</td>\n",
              "      <td>type 7</td>\n",
              "      <td>type 4</td>\n",
              "      <td>NaN</td>\n",
              "    </tr>\n",
              "    <tr>\n",
              "      <th>1</th>\n",
              "      <td>ppl_100004</td>\n",
              "      <td>act2_230855</td>\n",
              "      <td>2022-07-20</td>\n",
              "      <td>type 5</td>\n",
              "      <td>NaN</td>\n",
              "      <td>NaN</td>\n",
              "      <td>NaN</td>\n",
              "      <td>NaN</td>\n",
              "      <td>NaN</td>\n",
              "      <td>NaN</td>\n",
              "      <td>NaN</td>\n",
              "      <td>NaN</td>\n",
              "      <td>NaN</td>\n",
              "      <td>type 682</td>\n",
              "    </tr>\n",
              "    <tr>\n",
              "      <th>2</th>\n",
              "      <td>ppl_10001</td>\n",
              "      <td>act1_240724</td>\n",
              "      <td>2022-10-14</td>\n",
              "      <td>type 1</td>\n",
              "      <td>type 12</td>\n",
              "      <td>type 1</td>\n",
              "      <td>type 5</td>\n",
              "      <td>type 4</td>\n",
              "      <td>type 6</td>\n",
              "      <td>type 1</td>\n",
              "      <td>type 1</td>\n",
              "      <td>type 13</td>\n",
              "      <td>type 10</td>\n",
              "      <td>NaN</td>\n",
              "    </tr>\n",
              "    <tr>\n",
              "      <th>3</th>\n",
              "      <td>ppl_10001</td>\n",
              "      <td>act1_83552</td>\n",
              "      <td>2022-11-27</td>\n",
              "      <td>type 1</td>\n",
              "      <td>type 20</td>\n",
              "      <td>type 10</td>\n",
              "      <td>type 5</td>\n",
              "      <td>type 4</td>\n",
              "      <td>type 6</td>\n",
              "      <td>type 1</td>\n",
              "      <td>type 1</td>\n",
              "      <td>type 5</td>\n",
              "      <td>type 5</td>\n",
              "      <td>NaN</td>\n",
              "    </tr>\n",
              "    <tr>\n",
              "      <th>4</th>\n",
              "      <td>ppl_10001</td>\n",
              "      <td>act2_1043301</td>\n",
              "      <td>2022-10-15</td>\n",
              "      <td>type 5</td>\n",
              "      <td>NaN</td>\n",
              "      <td>NaN</td>\n",
              "      <td>NaN</td>\n",
              "      <td>NaN</td>\n",
              "      <td>NaN</td>\n",
              "      <td>NaN</td>\n",
              "      <td>NaN</td>\n",
              "      <td>NaN</td>\n",
              "      <td>NaN</td>\n",
              "      <td>type 3015</td>\n",
              "    </tr>\n",
              "  </tbody>\n",
              "</table>\n",
              "</div>\n",
              "      <button class=\"colab-df-convert\" onclick=\"convertToInteractive('df-38d24147-b44f-493a-b7a5-e6d79916d95c')\"\n",
              "              title=\"Convert this dataframe to an interactive table.\"\n",
              "              style=\"display:none;\">\n",
              "        \n",
              "  <svg xmlns=\"http://www.w3.org/2000/svg\" height=\"24px\"viewBox=\"0 0 24 24\"\n",
              "       width=\"24px\">\n",
              "    <path d=\"M0 0h24v24H0V0z\" fill=\"none\"/>\n",
              "    <path d=\"M18.56 5.44l.94 2.06.94-2.06 2.06-.94-2.06-.94-.94-2.06-.94 2.06-2.06.94zm-11 1L8.5 8.5l.94-2.06 2.06-.94-2.06-.94L8.5 2.5l-.94 2.06-2.06.94zm10 10l.94 2.06.94-2.06 2.06-.94-2.06-.94-.94-2.06-.94 2.06-2.06.94z\"/><path d=\"M17.41 7.96l-1.37-1.37c-.4-.4-.92-.59-1.43-.59-.52 0-1.04.2-1.43.59L10.3 9.45l-7.72 7.72c-.78.78-.78 2.05 0 2.83L4 21.41c.39.39.9.59 1.41.59.51 0 1.02-.2 1.41-.59l7.78-7.78 2.81-2.81c.8-.78.8-2.07 0-2.86zM5.41 20L4 18.59l7.72-7.72 1.47 1.35L5.41 20z\"/>\n",
              "  </svg>\n",
              "      </button>\n",
              "      \n",
              "  <style>\n",
              "    .colab-df-container {\n",
              "      display:flex;\n",
              "      flex-wrap:wrap;\n",
              "      gap: 12px;\n",
              "    }\n",
              "\n",
              "    .colab-df-convert {\n",
              "      background-color: #E8F0FE;\n",
              "      border: none;\n",
              "      border-radius: 50%;\n",
              "      cursor: pointer;\n",
              "      display: none;\n",
              "      fill: #1967D2;\n",
              "      height: 32px;\n",
              "      padding: 0 0 0 0;\n",
              "      width: 32px;\n",
              "    }\n",
              "\n",
              "    .colab-df-convert:hover {\n",
              "      background-color: #E2EBFA;\n",
              "      box-shadow: 0px 1px 2px rgba(60, 64, 67, 0.3), 0px 1px 3px 1px rgba(60, 64, 67, 0.15);\n",
              "      fill: #174EA6;\n",
              "    }\n",
              "\n",
              "    [theme=dark] .colab-df-convert {\n",
              "      background-color: #3B4455;\n",
              "      fill: #D2E3FC;\n",
              "    }\n",
              "\n",
              "    [theme=dark] .colab-df-convert:hover {\n",
              "      background-color: #434B5C;\n",
              "      box-shadow: 0px 1px 3px 1px rgba(0, 0, 0, 0.15);\n",
              "      filter: drop-shadow(0px 1px 2px rgba(0, 0, 0, 0.3));\n",
              "      fill: #FFFFFF;\n",
              "    }\n",
              "  </style>\n",
              "\n",
              "      <script>\n",
              "        const buttonEl =\n",
              "          document.querySelector('#df-38d24147-b44f-493a-b7a5-e6d79916d95c button.colab-df-convert');\n",
              "        buttonEl.style.display =\n",
              "          google.colab.kernel.accessAllowed ? 'block' : 'none';\n",
              "\n",
              "        async function convertToInteractive(key) {\n",
              "          const element = document.querySelector('#df-38d24147-b44f-493a-b7a5-e6d79916d95c');\n",
              "          const dataTable =\n",
              "            await google.colab.kernel.invokeFunction('convertToInteractive',\n",
              "                                                     [key], {});\n",
              "          if (!dataTable) return;\n",
              "\n",
              "          const docLinkHtml = 'Like what you see? Visit the ' +\n",
              "            '<a target=\"_blank\" href=https://colab.research.google.com/notebooks/data_table.ipynb>data table notebook</a>'\n",
              "            + ' to learn more about interactive tables.';\n",
              "          element.innerHTML = '';\n",
              "          dataTable['output_type'] = 'display_data';\n",
              "          await google.colab.output.renderOutput(dataTable, element);\n",
              "          const docLink = document.createElement('div');\n",
              "          docLink.innerHTML = docLinkHtml;\n",
              "          element.appendChild(docLink);\n",
              "        }\n",
              "      </script>\n",
              "    </div>\n",
              "  </div>\n",
              "  "
            ]
          },
          "metadata": {},
          "execution_count": 12
        }
      ]
    },
    {
      "cell_type": "code",
      "source": [
        "people.head()"
      ],
      "metadata": {
        "colab": {
          "base_uri": "https://localhost:8080/",
          "height": 386
        },
        "id": "B6LAzk9r8Tu6",
        "outputId": "d536eff4-9fcc-486f-fae7-3a7107647862"
      },
      "execution_count": null,
      "outputs": [
        {
          "output_type": "execute_result",
          "data": {
            "text/plain": [
              "    people_id  char_1      group_1  char_2        date   char_3   char_4  \\\n",
              "0     ppl_100  type 2  group 17304  type 2  2021-06-29   type 5   type 5   \n",
              "1  ppl_100002  type 2   group 8688  type 3  2021-01-06  type 28   type 9   \n",
              "2  ppl_100003  type 2  group 33592  type 3  2022-06-10   type 4   type 8   \n",
              "3  ppl_100004  type 2  group 22593  type 3  2022-07-20  type 40  type 25   \n",
              "4  ppl_100006  type 2   group 6534  type 3  2022-07-27  type 40  type 25   \n",
              "\n",
              "   char_5  char_6   char_7  ... char_29 char_30 char_31 char_32 char_33  \\\n",
              "0  type 5  type 3  type 11  ...   False    True    True   False   False   \n",
              "1  type 5  type 3  type 11  ...   False    True    True    True    True   \n",
              "2  type 5  type 2   type 5  ...   False   False    True    True    True   \n",
              "3  type 9  type 4  type 16  ...    True    True    True    True    True   \n",
              "4  type 9  type 3   type 8  ...   False   False    True   False   False   \n",
              "\n",
              "  char_34 char_35 char_36 char_37 char_38  \n",
              "0    True    True    True   False    36.0  \n",
              "1    True    True    True   False    76.0  \n",
              "2    True   False    True    True    99.0  \n",
              "3    True    True    True    True    76.0  \n",
              "4   False    True    True   False    84.0  \n",
              "\n",
              "[5 rows x 41 columns]"
            ],
            "text/html": [
              "\n",
              "  <div id=\"df-bbd123bd-1e15-48c9-bc7a-e3f5aeeeb0cf\">\n",
              "    <div class=\"colab-df-container\">\n",
              "      <div>\n",
              "<style scoped>\n",
              "    .dataframe tbody tr th:only-of-type {\n",
              "        vertical-align: middle;\n",
              "    }\n",
              "\n",
              "    .dataframe tbody tr th {\n",
              "        vertical-align: top;\n",
              "    }\n",
              "\n",
              "    .dataframe thead th {\n",
              "        text-align: right;\n",
              "    }\n",
              "</style>\n",
              "<table border=\"1\" class=\"dataframe\">\n",
              "  <thead>\n",
              "    <tr style=\"text-align: right;\">\n",
              "      <th></th>\n",
              "      <th>people_id</th>\n",
              "      <th>char_1</th>\n",
              "      <th>group_1</th>\n",
              "      <th>char_2</th>\n",
              "      <th>date</th>\n",
              "      <th>char_3</th>\n",
              "      <th>char_4</th>\n",
              "      <th>char_5</th>\n",
              "      <th>char_6</th>\n",
              "      <th>char_7</th>\n",
              "      <th>...</th>\n",
              "      <th>char_29</th>\n",
              "      <th>char_30</th>\n",
              "      <th>char_31</th>\n",
              "      <th>char_32</th>\n",
              "      <th>char_33</th>\n",
              "      <th>char_34</th>\n",
              "      <th>char_35</th>\n",
              "      <th>char_36</th>\n",
              "      <th>char_37</th>\n",
              "      <th>char_38</th>\n",
              "    </tr>\n",
              "  </thead>\n",
              "  <tbody>\n",
              "    <tr>\n",
              "      <th>0</th>\n",
              "      <td>ppl_100</td>\n",
              "      <td>type 2</td>\n",
              "      <td>group 17304</td>\n",
              "      <td>type 2</td>\n",
              "      <td>2021-06-29</td>\n",
              "      <td>type 5</td>\n",
              "      <td>type 5</td>\n",
              "      <td>type 5</td>\n",
              "      <td>type 3</td>\n",
              "      <td>type 11</td>\n",
              "      <td>...</td>\n",
              "      <td>False</td>\n",
              "      <td>True</td>\n",
              "      <td>True</td>\n",
              "      <td>False</td>\n",
              "      <td>False</td>\n",
              "      <td>True</td>\n",
              "      <td>True</td>\n",
              "      <td>True</td>\n",
              "      <td>False</td>\n",
              "      <td>36.0</td>\n",
              "    </tr>\n",
              "    <tr>\n",
              "      <th>1</th>\n",
              "      <td>ppl_100002</td>\n",
              "      <td>type 2</td>\n",
              "      <td>group 8688</td>\n",
              "      <td>type 3</td>\n",
              "      <td>2021-01-06</td>\n",
              "      <td>type 28</td>\n",
              "      <td>type 9</td>\n",
              "      <td>type 5</td>\n",
              "      <td>type 3</td>\n",
              "      <td>type 11</td>\n",
              "      <td>...</td>\n",
              "      <td>False</td>\n",
              "      <td>True</td>\n",
              "      <td>True</td>\n",
              "      <td>True</td>\n",
              "      <td>True</td>\n",
              "      <td>True</td>\n",
              "      <td>True</td>\n",
              "      <td>True</td>\n",
              "      <td>False</td>\n",
              "      <td>76.0</td>\n",
              "    </tr>\n",
              "    <tr>\n",
              "      <th>2</th>\n",
              "      <td>ppl_100003</td>\n",
              "      <td>type 2</td>\n",
              "      <td>group 33592</td>\n",
              "      <td>type 3</td>\n",
              "      <td>2022-06-10</td>\n",
              "      <td>type 4</td>\n",
              "      <td>type 8</td>\n",
              "      <td>type 5</td>\n",
              "      <td>type 2</td>\n",
              "      <td>type 5</td>\n",
              "      <td>...</td>\n",
              "      <td>False</td>\n",
              "      <td>False</td>\n",
              "      <td>True</td>\n",
              "      <td>True</td>\n",
              "      <td>True</td>\n",
              "      <td>True</td>\n",
              "      <td>False</td>\n",
              "      <td>True</td>\n",
              "      <td>True</td>\n",
              "      <td>99.0</td>\n",
              "    </tr>\n",
              "    <tr>\n",
              "      <th>3</th>\n",
              "      <td>ppl_100004</td>\n",
              "      <td>type 2</td>\n",
              "      <td>group 22593</td>\n",
              "      <td>type 3</td>\n",
              "      <td>2022-07-20</td>\n",
              "      <td>type 40</td>\n",
              "      <td>type 25</td>\n",
              "      <td>type 9</td>\n",
              "      <td>type 4</td>\n",
              "      <td>type 16</td>\n",
              "      <td>...</td>\n",
              "      <td>True</td>\n",
              "      <td>True</td>\n",
              "      <td>True</td>\n",
              "      <td>True</td>\n",
              "      <td>True</td>\n",
              "      <td>True</td>\n",
              "      <td>True</td>\n",
              "      <td>True</td>\n",
              "      <td>True</td>\n",
              "      <td>76.0</td>\n",
              "    </tr>\n",
              "    <tr>\n",
              "      <th>4</th>\n",
              "      <td>ppl_100006</td>\n",
              "      <td>type 2</td>\n",
              "      <td>group 6534</td>\n",
              "      <td>type 3</td>\n",
              "      <td>2022-07-27</td>\n",
              "      <td>type 40</td>\n",
              "      <td>type 25</td>\n",
              "      <td>type 9</td>\n",
              "      <td>type 3</td>\n",
              "      <td>type 8</td>\n",
              "      <td>...</td>\n",
              "      <td>False</td>\n",
              "      <td>False</td>\n",
              "      <td>True</td>\n",
              "      <td>False</td>\n",
              "      <td>False</td>\n",
              "      <td>False</td>\n",
              "      <td>True</td>\n",
              "      <td>True</td>\n",
              "      <td>False</td>\n",
              "      <td>84.0</td>\n",
              "    </tr>\n",
              "  </tbody>\n",
              "</table>\n",
              "<p>5 rows × 41 columns</p>\n",
              "</div>\n",
              "      <button class=\"colab-df-convert\" onclick=\"convertToInteractive('df-bbd123bd-1e15-48c9-bc7a-e3f5aeeeb0cf')\"\n",
              "              title=\"Convert this dataframe to an interactive table.\"\n",
              "              style=\"display:none;\">\n",
              "        \n",
              "  <svg xmlns=\"http://www.w3.org/2000/svg\" height=\"24px\"viewBox=\"0 0 24 24\"\n",
              "       width=\"24px\">\n",
              "    <path d=\"M0 0h24v24H0V0z\" fill=\"none\"/>\n",
              "    <path d=\"M18.56 5.44l.94 2.06.94-2.06 2.06-.94-2.06-.94-.94-2.06-.94 2.06-2.06.94zm-11 1L8.5 8.5l.94-2.06 2.06-.94-2.06-.94L8.5 2.5l-.94 2.06-2.06.94zm10 10l.94 2.06.94-2.06 2.06-.94-2.06-.94-.94-2.06-.94 2.06-2.06.94z\"/><path d=\"M17.41 7.96l-1.37-1.37c-.4-.4-.92-.59-1.43-.59-.52 0-1.04.2-1.43.59L10.3 9.45l-7.72 7.72c-.78.78-.78 2.05 0 2.83L4 21.41c.39.39.9.59 1.41.59.51 0 1.02-.2 1.41-.59l7.78-7.78 2.81-2.81c.8-.78.8-2.07 0-2.86zM5.41 20L4 18.59l7.72-7.72 1.47 1.35L5.41 20z\"/>\n",
              "  </svg>\n",
              "      </button>\n",
              "      \n",
              "  <style>\n",
              "    .colab-df-container {\n",
              "      display:flex;\n",
              "      flex-wrap:wrap;\n",
              "      gap: 12px;\n",
              "    }\n",
              "\n",
              "    .colab-df-convert {\n",
              "      background-color: #E8F0FE;\n",
              "      border: none;\n",
              "      border-radius: 50%;\n",
              "      cursor: pointer;\n",
              "      display: none;\n",
              "      fill: #1967D2;\n",
              "      height: 32px;\n",
              "      padding: 0 0 0 0;\n",
              "      width: 32px;\n",
              "    }\n",
              "\n",
              "    .colab-df-convert:hover {\n",
              "      background-color: #E2EBFA;\n",
              "      box-shadow: 0px 1px 2px rgba(60, 64, 67, 0.3), 0px 1px 3px 1px rgba(60, 64, 67, 0.15);\n",
              "      fill: #174EA6;\n",
              "    }\n",
              "\n",
              "    [theme=dark] .colab-df-convert {\n",
              "      background-color: #3B4455;\n",
              "      fill: #D2E3FC;\n",
              "    }\n",
              "\n",
              "    [theme=dark] .colab-df-convert:hover {\n",
              "      background-color: #434B5C;\n",
              "      box-shadow: 0px 1px 3px 1px rgba(0, 0, 0, 0.15);\n",
              "      filter: drop-shadow(0px 1px 2px rgba(0, 0, 0, 0.3));\n",
              "      fill: #FFFFFF;\n",
              "    }\n",
              "  </style>\n",
              "\n",
              "      <script>\n",
              "        const buttonEl =\n",
              "          document.querySelector('#df-bbd123bd-1e15-48c9-bc7a-e3f5aeeeb0cf button.colab-df-convert');\n",
              "        buttonEl.style.display =\n",
              "          google.colab.kernel.accessAllowed ? 'block' : 'none';\n",
              "\n",
              "        async function convertToInteractive(key) {\n",
              "          const element = document.querySelector('#df-bbd123bd-1e15-48c9-bc7a-e3f5aeeeb0cf');\n",
              "          const dataTable =\n",
              "            await google.colab.kernel.invokeFunction('convertToInteractive',\n",
              "                                                     [key], {});\n",
              "          if (!dataTable) return;\n",
              "\n",
              "          const docLinkHtml = 'Like what you see? Visit the ' +\n",
              "            '<a target=\"_blank\" href=https://colab.research.google.com/notebooks/data_table.ipynb>data table notebook</a>'\n",
              "            + ' to learn more about interactive tables.';\n",
              "          element.innerHTML = '';\n",
              "          dataTable['output_type'] = 'display_data';\n",
              "          await google.colab.output.renderOutput(dataTable, element);\n",
              "          const docLink = document.createElement('div');\n",
              "          docLink.innerHTML = docLinkHtml;\n",
              "          element.appendChild(docLink);\n",
              "        }\n",
              "      </script>\n",
              "    </div>\n",
              "  </div>\n",
              "  "
            ]
          },
          "metadata": {},
          "execution_count": 13
        }
      ]
    },
    {
      "cell_type": "markdown",
      "source": [
        "**Data cleaning Section** "
      ],
      "metadata": {
        "id": "zykqvCo79BBa"
      }
    },
    {
      "cell_type": "code",
      "source": [
        "#Let drop the column from act_train dataset which is also in people dataset\n",
        "train = train.drop(['char_1', 'char_2', 'char_3', \n",
        "                          'char_4', 'char_5', 'char_6',\n",
        "                         'char_7', 'char_8', 'char_9',\n",
        "                         'char_10'], axis=1)\n",
        "train.info()"
      ],
      "metadata": {
        "colab": {
          "base_uri": "https://localhost:8080/"
        },
        "id": "M6ymTJaA9Iee",
        "outputId": "550292cb-5b11-4392-bc96-347a33655eeb"
      },
      "execution_count": null,
      "outputs": [
        {
          "output_type": "stream",
          "name": "stdout",
          "text": [
            "<class 'pandas.core.frame.DataFrame'>\n",
            "RangeIndex: 735379 entries, 0 to 735378\n",
            "Data columns (total 5 columns):\n",
            " #   Column             Non-Null Count   Dtype  \n",
            "---  ------             --------------   -----  \n",
            " 0   people_id          735379 non-null  object \n",
            " 1   activity_id        735379 non-null  object \n",
            " 2   date               735378 non-null  object \n",
            " 3   activity_category  735378 non-null  object \n",
            " 4   outcome            735378 non-null  float64\n",
            "dtypes: float64(1), object(4)\n",
            "memory usage: 28.1+ MB\n"
          ]
        }
      ]
    },
    {
      "cell_type": "markdown",
      "source": [
        "**Merging the Datasets**"
      ],
      "metadata": {
        "id": "PFUOgH_b9nPz"
      }
    },
    {
      "cell_type": "code",
      "source": [
        "train.set_index('people_id')\n",
        "people.set_index('people_id')\n",
        "df = pd.merge(train, people)\n",
        "df.info()"
      ],
      "metadata": {
        "colab": {
          "base_uri": "https://localhost:8080/"
        },
        "id": "QmMTj5mE9tZ8",
        "outputId": "f7208160-2590-40da-b4dd-419a18c77fd3"
      },
      "execution_count": null,
      "outputs": [
        {
          "output_type": "stream",
          "name": "stdout",
          "text": [
            "<class 'pandas.core.frame.DataFrame'>\n",
            "Int64Index: 46420 entries, 0 to 46419\n",
            "Data columns (total 44 columns):\n",
            " #   Column             Non-Null Count  Dtype  \n",
            "---  ------             --------------  -----  \n",
            " 0   people_id          46420 non-null  object \n",
            " 1   activity_id        46420 non-null  object \n",
            " 2   date               46420 non-null  object \n",
            " 3   activity_category  46420 non-null  object \n",
            " 4   outcome            46420 non-null  float64\n",
            " 5   char_1             46420 non-null  object \n",
            " 6   group_1            46420 non-null  object \n",
            " 7   char_2             46420 non-null  object \n",
            " 8   char_3             46420 non-null  object \n",
            " 9   char_4             46420 non-null  object \n",
            " 10  char_5             46420 non-null  object \n",
            " 11  char_6             46420 non-null  object \n",
            " 12  char_7             46420 non-null  object \n",
            " 13  char_8             46420 non-null  object \n",
            " 14  char_9             46420 non-null  object \n",
            " 15  char_10            46420 non-null  object \n",
            " 16  char_11            46420 non-null  object \n",
            " 17  char_12            46420 non-null  object \n",
            " 18  char_13            46420 non-null  object \n",
            " 19  char_14            46420 non-null  object \n",
            " 20  char_15            46420 non-null  object \n",
            " 21  char_16            46420 non-null  object \n",
            " 22  char_17            46420 non-null  object \n",
            " 23  char_18            46420 non-null  object \n",
            " 24  char_19            46420 non-null  object \n",
            " 25  char_20            46420 non-null  object \n",
            " 26  char_21            46420 non-null  object \n",
            " 27  char_22            46420 non-null  object \n",
            " 28  char_23            46420 non-null  object \n",
            " 29  char_24            46420 non-null  object \n",
            " 30  char_25            46420 non-null  object \n",
            " 31  char_26            46420 non-null  object \n",
            " 32  char_27            46420 non-null  object \n",
            " 33  char_28            46420 non-null  object \n",
            " 34  char_29            46420 non-null  object \n",
            " 35  char_30            46420 non-null  object \n",
            " 36  char_31            46420 non-null  object \n",
            " 37  char_32            46420 non-null  object \n",
            " 38  char_33            46420 non-null  object \n",
            " 39  char_34            46420 non-null  object \n",
            " 40  char_35            46420 non-null  object \n",
            " 41  char_36            46420 non-null  object \n",
            " 42  char_37            46420 non-null  object \n",
            " 43  char_38            46420 non-null  float64\n",
            "dtypes: float64(2), object(42)\n",
            "memory usage: 15.9+ MB\n"
          ]
        }
      ]
    },
    {
      "cell_type": "markdown",
      "source": [
        "**Data Formating**"
      ],
      "metadata": {
        "id": "-soOvfN0-CNp"
      }
    },
    {
      "cell_type": "code",
      "source": [
        "df['date'] = pd.to_datetime(df['date'])\n",
        "df['year'] = df['date'].dt.year\n",
        "df['month'] = df['date'].dt.month\n",
        "df['day'] = df['date'].dt.day\n",
        "df['isweekend'] = (df['date'].dt.weekday >= 5).astype(int)\n",
        "df = df.drop('date', axis = 1)\n",
        "df.head()"
      ],
      "metadata": {
        "colab": {
          "base_uri": "https://localhost:8080/",
          "height": 386
        },
        "id": "f_kqix5g-HxC",
        "outputId": "8ddef4a7-319a-4324-8be5-efcbf15082f9"
      },
      "execution_count": null,
      "outputs": [
        {
          "output_type": "execute_result",
          "data": {
            "text/plain": [
              "    people_id   activity_id activity_category  outcome  char_1      group_1  \\\n",
              "0  ppl_100006  act2_2380649            type 3      1.0  type 2   group 6534   \n",
              "1  ppl_100019  act2_1681678            type 3      1.0  type 2  group 45749   \n",
              "2  ppl_100019   act2_763203            type 3      1.0  type 2  group 45749   \n",
              "3  ppl_100025  act2_2597743            type 3      0.0  type 2  group 36096   \n",
              "4  ppl_100025  act2_3280131            type 2      0.0  type 2  group 36096   \n",
              "\n",
              "   char_2   char_3   char_4  char_5  ... char_33 char_34 char_35 char_36  \\\n",
              "0  type 3  type 40  type 25  type 9  ...   False   False    True    True   \n",
              "1  type 3  type 40  type 25  type 9  ...   False   False   False   False   \n",
              "2  type 3  type 40  type 25  type 9  ...   False   False   False   False   \n",
              "3  type 3  type 14   type 6  type 8  ...   False   False   False   False   \n",
              "4  type 3  type 14   type 6  type 8  ...   False   False   False   False   \n",
              "\n",
              "  char_37 char_38  year month day isweekend  \n",
              "0   False    84.0  2022     7  27         0  \n",
              "1   False    84.0  2023     3  26         1  \n",
              "2   False    84.0  2023     3  26         1  \n",
              "3   False    76.0  2022     8  26         0  \n",
              "4   False    76.0  2022     8  26         0  \n",
              "\n",
              "[5 rows x 47 columns]"
            ],
            "text/html": [
              "\n",
              "  <div id=\"df-06622544-7071-453c-8aba-72dab23bc05f\">\n",
              "    <div class=\"colab-df-container\">\n",
              "      <div>\n",
              "<style scoped>\n",
              "    .dataframe tbody tr th:only-of-type {\n",
              "        vertical-align: middle;\n",
              "    }\n",
              "\n",
              "    .dataframe tbody tr th {\n",
              "        vertical-align: top;\n",
              "    }\n",
              "\n",
              "    .dataframe thead th {\n",
              "        text-align: right;\n",
              "    }\n",
              "</style>\n",
              "<table border=\"1\" class=\"dataframe\">\n",
              "  <thead>\n",
              "    <tr style=\"text-align: right;\">\n",
              "      <th></th>\n",
              "      <th>people_id</th>\n",
              "      <th>activity_id</th>\n",
              "      <th>activity_category</th>\n",
              "      <th>outcome</th>\n",
              "      <th>char_1</th>\n",
              "      <th>group_1</th>\n",
              "      <th>char_2</th>\n",
              "      <th>char_3</th>\n",
              "      <th>char_4</th>\n",
              "      <th>char_5</th>\n",
              "      <th>...</th>\n",
              "      <th>char_33</th>\n",
              "      <th>char_34</th>\n",
              "      <th>char_35</th>\n",
              "      <th>char_36</th>\n",
              "      <th>char_37</th>\n",
              "      <th>char_38</th>\n",
              "      <th>year</th>\n",
              "      <th>month</th>\n",
              "      <th>day</th>\n",
              "      <th>isweekend</th>\n",
              "    </tr>\n",
              "  </thead>\n",
              "  <tbody>\n",
              "    <tr>\n",
              "      <th>0</th>\n",
              "      <td>ppl_100006</td>\n",
              "      <td>act2_2380649</td>\n",
              "      <td>type 3</td>\n",
              "      <td>1.0</td>\n",
              "      <td>type 2</td>\n",
              "      <td>group 6534</td>\n",
              "      <td>type 3</td>\n",
              "      <td>type 40</td>\n",
              "      <td>type 25</td>\n",
              "      <td>type 9</td>\n",
              "      <td>...</td>\n",
              "      <td>False</td>\n",
              "      <td>False</td>\n",
              "      <td>True</td>\n",
              "      <td>True</td>\n",
              "      <td>False</td>\n",
              "      <td>84.0</td>\n",
              "      <td>2022</td>\n",
              "      <td>7</td>\n",
              "      <td>27</td>\n",
              "      <td>0</td>\n",
              "    </tr>\n",
              "    <tr>\n",
              "      <th>1</th>\n",
              "      <td>ppl_100019</td>\n",
              "      <td>act2_1681678</td>\n",
              "      <td>type 3</td>\n",
              "      <td>1.0</td>\n",
              "      <td>type 2</td>\n",
              "      <td>group 45749</td>\n",
              "      <td>type 3</td>\n",
              "      <td>type 40</td>\n",
              "      <td>type 25</td>\n",
              "      <td>type 9</td>\n",
              "      <td>...</td>\n",
              "      <td>False</td>\n",
              "      <td>False</td>\n",
              "      <td>False</td>\n",
              "      <td>False</td>\n",
              "      <td>False</td>\n",
              "      <td>84.0</td>\n",
              "      <td>2023</td>\n",
              "      <td>3</td>\n",
              "      <td>26</td>\n",
              "      <td>1</td>\n",
              "    </tr>\n",
              "    <tr>\n",
              "      <th>2</th>\n",
              "      <td>ppl_100019</td>\n",
              "      <td>act2_763203</td>\n",
              "      <td>type 3</td>\n",
              "      <td>1.0</td>\n",
              "      <td>type 2</td>\n",
              "      <td>group 45749</td>\n",
              "      <td>type 3</td>\n",
              "      <td>type 40</td>\n",
              "      <td>type 25</td>\n",
              "      <td>type 9</td>\n",
              "      <td>...</td>\n",
              "      <td>False</td>\n",
              "      <td>False</td>\n",
              "      <td>False</td>\n",
              "      <td>False</td>\n",
              "      <td>False</td>\n",
              "      <td>84.0</td>\n",
              "      <td>2023</td>\n",
              "      <td>3</td>\n",
              "      <td>26</td>\n",
              "      <td>1</td>\n",
              "    </tr>\n",
              "    <tr>\n",
              "      <th>3</th>\n",
              "      <td>ppl_100025</td>\n",
              "      <td>act2_2597743</td>\n",
              "      <td>type 3</td>\n",
              "      <td>0.0</td>\n",
              "      <td>type 2</td>\n",
              "      <td>group 36096</td>\n",
              "      <td>type 3</td>\n",
              "      <td>type 14</td>\n",
              "      <td>type 6</td>\n",
              "      <td>type 8</td>\n",
              "      <td>...</td>\n",
              "      <td>False</td>\n",
              "      <td>False</td>\n",
              "      <td>False</td>\n",
              "      <td>False</td>\n",
              "      <td>False</td>\n",
              "      <td>76.0</td>\n",
              "      <td>2022</td>\n",
              "      <td>8</td>\n",
              "      <td>26</td>\n",
              "      <td>0</td>\n",
              "    </tr>\n",
              "    <tr>\n",
              "      <th>4</th>\n",
              "      <td>ppl_100025</td>\n",
              "      <td>act2_3280131</td>\n",
              "      <td>type 2</td>\n",
              "      <td>0.0</td>\n",
              "      <td>type 2</td>\n",
              "      <td>group 36096</td>\n",
              "      <td>type 3</td>\n",
              "      <td>type 14</td>\n",
              "      <td>type 6</td>\n",
              "      <td>type 8</td>\n",
              "      <td>...</td>\n",
              "      <td>False</td>\n",
              "      <td>False</td>\n",
              "      <td>False</td>\n",
              "      <td>False</td>\n",
              "      <td>False</td>\n",
              "      <td>76.0</td>\n",
              "      <td>2022</td>\n",
              "      <td>8</td>\n",
              "      <td>26</td>\n",
              "      <td>0</td>\n",
              "    </tr>\n",
              "  </tbody>\n",
              "</table>\n",
              "<p>5 rows × 47 columns</p>\n",
              "</div>\n",
              "      <button class=\"colab-df-convert\" onclick=\"convertToInteractive('df-06622544-7071-453c-8aba-72dab23bc05f')\"\n",
              "              title=\"Convert this dataframe to an interactive table.\"\n",
              "              style=\"display:none;\">\n",
              "        \n",
              "  <svg xmlns=\"http://www.w3.org/2000/svg\" height=\"24px\"viewBox=\"0 0 24 24\"\n",
              "       width=\"24px\">\n",
              "    <path d=\"M0 0h24v24H0V0z\" fill=\"none\"/>\n",
              "    <path d=\"M18.56 5.44l.94 2.06.94-2.06 2.06-.94-2.06-.94-.94-2.06-.94 2.06-2.06.94zm-11 1L8.5 8.5l.94-2.06 2.06-.94-2.06-.94L8.5 2.5l-.94 2.06-2.06.94zm10 10l.94 2.06.94-2.06 2.06-.94-2.06-.94-.94-2.06-.94 2.06-2.06.94z\"/><path d=\"M17.41 7.96l-1.37-1.37c-.4-.4-.92-.59-1.43-.59-.52 0-1.04.2-1.43.59L10.3 9.45l-7.72 7.72c-.78.78-.78 2.05 0 2.83L4 21.41c.39.39.9.59 1.41.59.51 0 1.02-.2 1.41-.59l7.78-7.78 2.81-2.81c.8-.78.8-2.07 0-2.86zM5.41 20L4 18.59l7.72-7.72 1.47 1.35L5.41 20z\"/>\n",
              "  </svg>\n",
              "      </button>\n",
              "      \n",
              "  <style>\n",
              "    .colab-df-container {\n",
              "      display:flex;\n",
              "      flex-wrap:wrap;\n",
              "      gap: 12px;\n",
              "    }\n",
              "\n",
              "    .colab-df-convert {\n",
              "      background-color: #E8F0FE;\n",
              "      border: none;\n",
              "      border-radius: 50%;\n",
              "      cursor: pointer;\n",
              "      display: none;\n",
              "      fill: #1967D2;\n",
              "      height: 32px;\n",
              "      padding: 0 0 0 0;\n",
              "      width: 32px;\n",
              "    }\n",
              "\n",
              "    .colab-df-convert:hover {\n",
              "      background-color: #E2EBFA;\n",
              "      box-shadow: 0px 1px 2px rgba(60, 64, 67, 0.3), 0px 1px 3px 1px rgba(60, 64, 67, 0.15);\n",
              "      fill: #174EA6;\n",
              "    }\n",
              "\n",
              "    [theme=dark] .colab-df-convert {\n",
              "      background-color: #3B4455;\n",
              "      fill: #D2E3FC;\n",
              "    }\n",
              "\n",
              "    [theme=dark] .colab-df-convert:hover {\n",
              "      background-color: #434B5C;\n",
              "      box-shadow: 0px 1px 3px 1px rgba(0, 0, 0, 0.15);\n",
              "      filter: drop-shadow(0px 1px 2px rgba(0, 0, 0, 0.3));\n",
              "      fill: #FFFFFF;\n",
              "    }\n",
              "  </style>\n",
              "\n",
              "      <script>\n",
              "        const buttonEl =\n",
              "          document.querySelector('#df-06622544-7071-453c-8aba-72dab23bc05f button.colab-df-convert');\n",
              "        buttonEl.style.display =\n",
              "          google.colab.kernel.accessAllowed ? 'block' : 'none';\n",
              "\n",
              "        async function convertToInteractive(key) {\n",
              "          const element = document.querySelector('#df-06622544-7071-453c-8aba-72dab23bc05f');\n",
              "          const dataTable =\n",
              "            await google.colab.kernel.invokeFunction('convertToInteractive',\n",
              "                                                     [key], {});\n",
              "          if (!dataTable) return;\n",
              "\n",
              "          const docLinkHtml = 'Like what you see? Visit the ' +\n",
              "            '<a target=\"_blank\" href=https://colab.research.google.com/notebooks/data_table.ipynb>data table notebook</a>'\n",
              "            + ' to learn more about interactive tables.';\n",
              "          element.innerHTML = '';\n",
              "          dataTable['output_type'] = 'display_data';\n",
              "          await google.colab.output.renderOutput(dataTable, element);\n",
              "          const docLink = document.createElement('div');\n",
              "          docLink.innerHTML = docLinkHtml;\n",
              "          element.appendChild(docLink);\n",
              "        }\n",
              "      </script>\n",
              "    </div>\n",
              "  </div>\n",
              "  "
            ]
          },
          "metadata": {},
          "execution_count": 16
        }
      ]
    },
    {
      "cell_type": "code",
      "source": [],
      "metadata": {
        "id": "OD4bnFdx-lsK"
      },
      "execution_count": null,
      "outputs": []
    },
    {
      "cell_type": "markdown",
      "source": [
        "**Data Visualization and Analysis Section**"
      ],
      "metadata": {
        "id": "36Ky1VKG-5Pz"
      }
    },
    {
      "cell_type": "code",
      "source": [
        "\n",
        "sns.countplot(x=\"outcome\", data=df);"
      ],
      "metadata": {
        "colab": {
          "base_uri": "https://localhost:8080/",
          "height": 279
        },
        "id": "OIMd6KlV_JXz",
        "outputId": "80ea0da7-6b6d-422d-aef8-c6719cfbaf36"
      },
      "execution_count": null,
      "outputs": [
        {
          "output_type": "display_data",
          "data": {
            "text/plain": [
              "<Figure size 432x288 with 1 Axes>"
            ],
            "image/png": "[encoded data removed]"
          },
          "metadata": {
            "needs_background": "light"
          }
        }
      ]
    },
    {
      "cell_type": "code",
      "source": [
        "df['outcome'].value_counts()"
      ],
      "metadata": {
        "colab": {
          "base_uri": "https://localhost:8080/"
        },
        "id": "jc_ppG-f_Uep",
        "outputId": "3913c9b1-d841-4aee-ad1e-8a3b7c92071a"
      },
      "execution_count": null,
      "outputs": [
        {
          "output_type": "execute_result",
          "data": {
            "text/plain": [
              "0.0    29117\n",
              "1.0    17303\n",
              "Name: outcome, dtype: int64"
            ]
          },
          "metadata": {},
          "execution_count": 21
        }
      ]
    },
    {
      "cell_type": "markdown",
      "source": [
        "As we can see the data provided has imbalanced classes"
      ],
      "metadata": {
        "id": "Og5qKod7_pil"
      }
    },
    {
      "cell_type": "code",
      "source": [
        "categorical_features = []\n",
        "numeric_features = []\n",
        "features = df.columns.values.tolist()\n",
        "for col in features:\n",
        "    if df[col].dtype != 'object': \n",
        "        numeric_features.append(col)\n",
        "    else:\n",
        "        categorical_features.append(col)"
      ],
      "metadata": {
        "id": "ciK8EXhN_xeB"
      },
      "execution_count": null,
      "outputs": []
    },
    {
      "cell_type": "code",
      "source": [
        "from sklearn.preprocessing import LabelEncoder\n",
        "# Encoding categorical features\n",
        "for col in categorical_features:\n",
        "    le = LabelEncoder()\n",
        "    le.fit(list(df[col].astype(str).values))\n",
        "    df[col] = le.transform(list(df[col].astype(str).values))"
      ],
      "metadata": {
        "id": "dgK_gc8Z_3AB"
      },
      "execution_count": null,
      "outputs": []
    },
    {
      "cell_type": "code",
      "source": [
        "df.head()"
      ],
      "metadata": {
        "colab": {
          "base_uri": "https://localhost:8080/",
          "height": 299
        },
        "id": "w1fO1on2_6C4",
        "outputId": "151dc54c-25e5-4895-a91e-de46d795e5c4"
      },
      "execution_count": null,
      "outputs": [
        {
          "output_type": "execute_result",
          "data": {
            "text/plain": [
              "   people_id  activity_id  activity_category  outcome  char_1  group_1  \\\n",
              "0          0        26236                  2      1.0       1     6354   \n",
              "1          1        21392                  2      1.0       1     5268   \n",
              "2          1        44784                  2      1.0       1     5268   \n",
              "3          2        27798                  2      0.0       1     3698   \n",
              "4          2        32239                  1      0.0       1     3698   \n",
              "\n",
              "   char_2  char_3  char_4  char_5  ...  char_33  char_34  char_35  char_36  \\\n",
              "0       2      34      17       8  ...        0        0        1        1   \n",
              "1       2      34      17       8  ...        0        0        0        0   \n",
              "2       2      34      17       8  ...        0        0        0        0   \n",
              "3       2       5      21       7  ...        0        0        0        0   \n",
              "4       2       5      21       7  ...        0        0        0        0   \n",
              "\n",
              "   char_37  char_38  year  month  day  isweekend  \n",
              "0        0     84.0  2022      7   27          0  \n",
              "1        0     84.0  2023      3   26          1  \n",
              "2        0     84.0  2023      3   26          1  \n",
              "3        0     76.0  2022      8   26          0  \n",
              "4        0     76.0  2022      8   26          0  \n",
              "\n",
              "[5 rows x 47 columns]"
            ],
            "text/html": [
              "\n",
              "  <div id=\"df-1189c638-013b-48ae-b759-2c2089abf21d\">\n",
              "    <div class=\"colab-df-container\">\n",
              "      <div>\n",
              "<style scoped>\n",
              "    .dataframe tbody tr th:only-of-type {\n",
              "        vertical-align: middle;\n",
              "    }\n",
              "\n",
              "    .dataframe tbody tr th {\n",
              "        vertical-align: top;\n",
              "    }\n",
              "\n",
              "    .dataframe thead th {\n",
              "        text-align: right;\n",
              "    }\n",
              "</style>\n",
              "<table border=\"1\" class=\"dataframe\">\n",
              "  <thead>\n",
              "    <tr style=\"text-align: right;\">\n",
              "      <th></th>\n",
              "      <th>people_id</th>\n",
              "      <th>activity_id</th>\n",
              "      <th>activity_category</th>\n",
              "      <th>outcome</th>\n",
              "      <th>char_1</th>\n",
              "      <th>group_1</th>\n",
              "      <th>char_2</th>\n",
              "      <th>char_3</th>\n",
              "      <th>char_4</th>\n",
              "      <th>char_5</th>\n",
              "      <th>...</th>\n",
              "      <th>char_33</th>\n",
              "      <th>char_34</th>\n",
              "      <th>char_35</th>\n",
              "      <th>char_36</th>\n",
              "      <th>char_37</th>\n",
              "      <th>char_38</th>\n",
              "      <th>year</th>\n",
              "      <th>month</th>\n",
              "      <th>day</th>\n",
              "      <th>isweekend</th>\n",
              "    </tr>\n",
              "  </thead>\n",
              "  <tbody>\n",
              "    <tr>\n",
              "      <th>0</th>\n",
              "      <td>0</td>\n",
              "      <td>26236</td>\n",
              "      <td>2</td>\n",
              "      <td>1.0</td>\n",
              "      <td>1</td>\n",
              "      <td>6354</td>\n",
              "      <td>2</td>\n",
              "      <td>34</td>\n",
              "      <td>17</td>\n",
              "      <td>8</td>\n",
              "      <td>...</td>\n",
              "      <td>0</td>\n",
              "      <td>0</td>\n",
              "      <td>1</td>\n",
              "      <td>1</td>\n",
              "      <td>0</td>\n",
              "      <td>84.0</td>\n",
              "      <td>2022</td>\n",
              "      <td>7</td>\n",
              "      <td>27</td>\n",
              "      <td>0</td>\n",
              "    </tr>\n",
              "    <tr>\n",
              "      <th>1</th>\n",
              "      <td>1</td>\n",
              "      <td>21392</td>\n",
              "      <td>2</td>\n",
              "      <td>1.0</td>\n",
              "      <td>1</td>\n",
              "      <td>5268</td>\n",
              "      <td>2</td>\n",
              "      <td>34</td>\n",
              "      <td>17</td>\n",
              "      <td>8</td>\n",
              "      <td>...</td>\n",
              "      <td>0</td>\n",
              "      <td>0</td>\n",
              "      <td>0</td>\n",
              "      <td>0</td>\n",
              "      <td>0</td>\n",
              "      <td>84.0</td>\n",
              "      <td>2023</td>\n",
              "      <td>3</td>\n",
              "      <td>26</td>\n",
              "      <td>1</td>\n",
              "    </tr>\n",
              "    <tr>\n",
              "      <th>2</th>\n",
              "      <td>1</td>\n",
              "      <td>44784</td>\n",
              "      <td>2</td>\n",
              "      <td>1.0</td>\n",
              "      <td>1</td>\n",
              "      <td>5268</td>\n",
              "      <td>2</td>\n",
              "      <td>34</td>\n",
              "      <td>17</td>\n",
              "      <td>8</td>\n",
              "      <td>...</td>\n",
              "      <td>0</td>\n",
              "      <td>0</td>\n",
              "      <td>0</td>\n",
              "      <td>0</td>\n",
              "      <td>0</td>\n",
              "      <td>84.0</td>\n",
              "      <td>2023</td>\n",
              "      <td>3</td>\n",
              "      <td>26</td>\n",
              "      <td>1</td>\n",
              "    </tr>\n",
              "    <tr>\n",
              "      <th>3</th>\n",
              "      <td>2</td>\n",
              "      <td>27798</td>\n",
              "      <td>2</td>\n",
              "      <td>0.0</td>\n",
              "      <td>1</td>\n",
              "      <td>3698</td>\n",
              "      <td>2</td>\n",
              "      <td>5</td>\n",
              "      <td>21</td>\n",
              "      <td>7</td>\n",
              "      <td>...</td>\n",
              "      <td>0</td>\n",
              "      <td>0</td>\n",
              "      <td>0</td>\n",
              "      <td>0</td>\n",
              "      <td>0</td>\n",
              "      <td>76.0</td>\n",
              "      <td>2022</td>\n",
              "      <td>8</td>\n",
              "      <td>26</td>\n",
              "      <td>0</td>\n",
              "    </tr>\n",
              "    <tr>\n",
              "      <th>4</th>\n",
              "      <td>2</td>\n",
              "      <td>32239</td>\n",
              "      <td>1</td>\n",
              "      <td>0.0</td>\n",
              "      <td>1</td>\n",
              "      <td>3698</td>\n",
              "      <td>2</td>\n",
              "      <td>5</td>\n",
              "      <td>21</td>\n",
              "      <td>7</td>\n",
              "      <td>...</td>\n",
              "      <td>0</td>\n",
              "      <td>0</td>\n",
              "      <td>0</td>\n",
              "      <td>0</td>\n",
              "      <td>0</td>\n",
              "      <td>76.0</td>\n",
              "      <td>2022</td>\n",
              "      <td>8</td>\n",
              "      <td>26</td>\n",
              "      <td>0</td>\n",
              "    </tr>\n",
              "  </tbody>\n",
              "</table>\n",
              "<p>5 rows × 47 columns</p>\n",
              "</div>\n",
              "      <button class=\"colab-df-convert\" onclick=\"convertToInteractive('df-1189c638-013b-48ae-b759-2c2089abf21d')\"\n",
              "              title=\"Convert this dataframe to an interactive table.\"\n",
              "              style=\"display:none;\">\n",
              "        \n",
              "  <svg xmlns=\"http://www.w3.org/2000/svg\" height=\"24px\"viewBox=\"0 0 24 24\"\n",
              "       width=\"24px\">\n",
              "    <path d=\"M0 0h24v24H0V0z\" fill=\"none\"/>\n",
              "    <path d=\"M18.56 5.44l.94 2.06.94-2.06 2.06-.94-2.06-.94-.94-2.06-.94 2.06-2.06.94zm-11 1L8.5 8.5l.94-2.06 2.06-.94-2.06-.94L8.5 2.5l-.94 2.06-2.06.94zm10 10l.94 2.06.94-2.06 2.06-.94-2.06-.94-.94-2.06-.94 2.06-2.06.94z\"/><path d=\"M17.41 7.96l-1.37-1.37c-.4-.4-.92-.59-1.43-.59-.52 0-1.04.2-1.43.59L10.3 9.45l-7.72 7.72c-.78.78-.78 2.05 0 2.83L4 21.41c.39.39.9.59 1.41.59.51 0 1.02-.2 1.41-.59l7.78-7.78 2.81-2.81c.8-.78.8-2.07 0-2.86zM5.41 20L4 18.59l7.72-7.72 1.47 1.35L5.41 20z\"/>\n",
              "  </svg>\n",
              "      </button>\n",
              "      \n",
              "  <style>\n",
              "    .colab-df-container {\n",
              "      display:flex;\n",
              "      flex-wrap:wrap;\n",
              "      gap: 12px;\n",
              "    }\n",
              "\n",
              "    .colab-df-convert {\n",
              "      background-color: #E8F0FE;\n",
              "      border: none;\n",
              "      border-radius: 50%;\n",
              "      cursor: pointer;\n",
              "      display: none;\n",
              "      fill: #1967D2;\n",
              "      height: 32px;\n",
              "      padding: 0 0 0 0;\n",
              "      width: 32px;\n",
              "    }\n",
              "\n",
              "    .colab-df-convert:hover {\n",
              "      background-color: #E2EBFA;\n",
              "      box-shadow: 0px 1px 2px rgba(60, 64, 67, 0.3), 0px 1px 3px 1px rgba(60, 64, 67, 0.15);\n",
              "      fill: #174EA6;\n",
              "    }\n",
              "\n",
              "    [theme=dark] .colab-df-convert {\n",
              "      background-color: #3B4455;\n",
              "      fill: #D2E3FC;\n",
              "    }\n",
              "\n",
              "    [theme=dark] .colab-df-convert:hover {\n",
              "      background-color: #434B5C;\n",
              "      box-shadow: 0px 1px 3px 1px rgba(0, 0, 0, 0.15);\n",
              "      filter: drop-shadow(0px 1px 2px rgba(0, 0, 0, 0.3));\n",
              "      fill: #FFFFFF;\n",
              "    }\n",
              "  </style>\n",
              "\n",
              "      <script>\n",
              "        const buttonEl =\n",
              "          document.querySelector('#df-1189c638-013b-48ae-b759-2c2089abf21d button.colab-df-convert');\n",
              "        buttonEl.style.display =\n",
              "          google.colab.kernel.accessAllowed ? 'block' : 'none';\n",
              "\n",
              "        async function convertToInteractive(key) {\n",
              "          const element = document.querySelector('#df-1189c638-013b-48ae-b759-2c2089abf21d');\n",
              "          const dataTable =\n",
              "            await google.colab.kernel.invokeFunction('convertToInteractive',\n",
              "                                                     [key], {});\n",
              "          if (!dataTable) return;\n",
              "\n",
              "          const docLinkHtml = 'Like what you see? Visit the ' +\n",
              "            '<a target=\"_blank\" href=https://colab.research.google.com/notebooks/data_table.ipynb>data table notebook</a>'\n",
              "            + ' to learn more about interactive tables.';\n",
              "          element.innerHTML = '';\n",
              "          dataTable['output_type'] = 'display_data';\n",
              "          await google.colab.output.renderOutput(dataTable, element);\n",
              "          const docLink = document.createElement('div');\n",
              "          docLink.innerHTML = docLinkHtml;\n",
              "          element.appendChild(docLink);\n",
              "        }\n",
              "      </script>\n",
              "    </div>\n",
              "  </div>\n",
              "  "
            ]
          },
          "metadata": {},
          "execution_count": 24
        }
      ]
    },
    {
      "cell_type": "markdown",
      "source": [
        "**In order to avoid the 100% accuracy of our model we have to balance the dataset classes by either under supmling or over sampling**"
      ],
      "metadata": {
        "id": "0M2divlqB1wM"
      }
    },
    {
      "cell_type": "markdown",
      "source": [],
      "metadata": {
        "id": "sUQBmWKOCXK_"
      }
    },
    {
      "cell_type": "markdown",
      "source": [
        "**Over Sampling Technique and Under Sampling**\n"
      ],
      "metadata": {
        "id": "OvjIerYOCYe-"
      }
    },
    {
      "cell_type": "markdown",
      "source": [
        "Despite the advantage of balancing classes, these techniques also have their weaknesses (there is no free lunch).\n",
        "\n",
        "The simplest implementation of over-sampling is to duplicate random records from the minority class, which can cause overfishing.\n",
        "\n",
        "In under-sampling, the simplest technique involves removing random records from the majority class, which can cause loss of information."
      ],
      "metadata": {
        "id": "M0cs05MTC9Cu"
      }
    },
    {
      "cell_type": "code",
      "source": [
        "# class count\n",
        "class_count_0, class_count_1 = df['outcome'].value_counts()\n",
        "# Separate class\n",
        "class_0 = df[df['outcome'] == 0]\n",
        "class_1 = df[df['outcome'] == 1]# print the shape of the class\n",
        "print('class 0:', class_0.shape)\n",
        "print('class 1:', class_1.shape)"
      ],
      "metadata": {
        "colab": {
          "base_uri": "https://localhost:8080/"
        },
        "id": "PVkBey1yCaB7",
        "outputId": "74206b99-8d76-43e9-a8d8-e57d2681bd9b"
      },
      "execution_count": null,
      "outputs": [
        {
          "output_type": "stream",
          "name": "stdout",
          "text": [
            "class 0: (29117, 47)\n",
            "class 1: (17303, 47)\n"
          ]
        }
      ]
    },
    {
      "cell_type": "markdown",
      "source": [
        "**1. Random Under Sampling Method**"
      ],
      "metadata": {
        "id": "XfwQIBWdFVwQ"
      }
    },
    {
      "cell_type": "markdown",
      "source": [
        "Undersampling can be defined as removing some observations of the majority class. This is done until the majority and minority class is balanced out.\n",
        "\n",
        "Undersampling can be a good choice when you have a ton of data -think millions of rows. But a drawback to undersampling is that we are removing information that may be valuable."
      ],
      "metadata": {
        "id": "PoVLdxtJFl67"
      }
    },
    {
      "cell_type": "code",
      "source": [
        "class_0_under = class_0.sample(class_count_1)\n",
        "\n",
        "test_under = pd.concat([class_0_under, class_1], axis=0)\n",
        "\n",
        "print(\"total class of 1 and0:\",test_under['outcome'].value_counts())# plot the count after under-sampeling\n",
        "test_under['outcome'].value_counts().plot(kind='bar', title='count (target)');"
      ],
      "metadata": {
        "colab": {
          "base_uri": "https://localhost:8080/",
          "height": 339
        },
        "id": "AVB5o29bE_-r",
        "outputId": "f48c5d67-b7aa-47ca-8dc5-2ae6169371f0"
      },
      "execution_count": null,
      "outputs": [
        {
          "output_type": "stream",
          "name": "stdout",
          "text": [
            "total class of 1 and0: 0.0    17303\n",
            "1.0    17303\n",
            "Name: outcome, dtype: int64\n"
          ]
        },
        {
          "output_type": "display_data",
          "data": {
            "text/plain": [
              "<Figure size 432x288 with 1 Axes>"
            ],
            "image/png": "[encoded data removed]"
          },
          "metadata": {
            "needs_background": "light"
          }
        }
      ]
    },
    {
      "cell_type": "markdown",
      "source": [
        "**2. Random Over sampling Method**"
      ],
      "metadata": {
        "id": "38Fv_-qsFy_D"
      }
    },
    {
      "cell_type": "markdown",
      "source": [
        "Oversampling can be defined as adding more copies to the minority class. Oversampling can be a good choice when you don’t have a ton of data to work with.\n",
        "\n",
        "A con to consider when undersampling is that it can cause overfitting and poor generalization to your test set."
      ],
      "metadata": {
        "id": "-Fg-anI8F9p7"
      }
    },
    {
      "cell_type": "code",
      "source": [
        "class_1_over = class_1.sample(class_count_0, replace=True)\n",
        "\n",
        "test_over = pd.concat([class_1_over, class_0], axis=0)\n",
        "\n",
        "print(\"total class of 1 and 0:\",test_under['outcome'].value_counts())# plot the count after under-sampeling\n",
        "test_over['outcome'].value_counts().plot(kind='bar', title='count (target)');"
      ],
      "metadata": {
        "colab": {
          "base_uri": "https://localhost:8080/",
          "height": 339
        },
        "id": "s_10BUEVGFIG",
        "outputId": "6c9a8da9-5e59-450c-cb28-5e8d1f4ab5c3"
      },
      "execution_count": null,
      "outputs": [
        {
          "output_type": "stream",
          "name": "stdout",
          "text": [
            "total class of 1 and 0: 0.0    17303\n",
            "1.0    17303\n",
            "Name: outcome, dtype: int64\n"
          ]
        },
        {
          "output_type": "display_data",
          "data": {
            "text/plain": [
              "<Figure size 432x288 with 1 Axes>"
            ],
            "image/png": "[encoded data removed]"
          },
          "metadata": {
            "needs_background": "light"
          }
        }
      ]
    },
    {
      "cell_type": "code",
      "source": [],
      "metadata": {
        "id": "LdSqWkWlHjgR"
      },
      "execution_count": null,
      "outputs": []
    },
    {
      "cell_type": "code",
      "source": [
        "# Let fix this the problem of unbalance\n",
        "from sklearn.utils import resample\n",
        "#create two different dataframe of majority and minority class \n",
        "df_majority = df[(df['outcome']==0.0)] \n",
        "df_minority = df[(df['outcome']==1.0)] \n",
        "# upsample minority class\n",
        "df_minority_upsampled = resample(df_minority, \n",
        "                                 replace=True,    # sample with replacement\n",
        "                                 n_samples= 29117, # to match majority class\n",
        "                                 random_state=42)  # reproducible results\n",
        "# Combine majority class with upsampled minority class\n",
        "data = pd.concat([df_minority_upsampled, df_majority])"
      ],
      "metadata": {
        "id": "w1-g2YqIHlJa"
      },
      "execution_count": null,
      "outputs": []
    },
    {
      "cell_type": "code",
      "source": [
        "sns.countplot(x=\"outcome\", data=data);"
      ],
      "metadata": {
        "colab": {
          "base_uri": "https://localhost:8080/",
          "height": 279
        },
        "id": "UiOEDDZsH8sU",
        "outputId": "89a3610d-62a0-459b-de72-134f97196bd9"
      },
      "execution_count": null,
      "outputs": [
        {
          "output_type": "display_data",
          "data": {
            "text/plain": [
              "<Figure size 432x288 with 1 Axes>"
            ],
            "image/png": "[encoded data removed]"
          },
          "metadata": {
            "needs_background": "light"
          }
        }
      ]
    },
    {
      "cell_type": "markdown",
      "source": [
        "**Modeling Section**"
      ],
      "metadata": {
        "id": "vPKaeugnKzTb"
      }
    },
    {
      "cell_type": "code",
      "source": [
        "#Choose the Input Valiable Vs Output Valriable\n",
        "y = data['outcome']\n",
        "X = data.drop('outcome', axis=1)"
      ],
      "metadata": {
        "id": "31tEy6PDK4nb"
      },
      "execution_count": null,
      "outputs": []
    },
    {
      "cell_type": "code",
      "source": [
        "from sklearn.model_selection import train_test_split\n",
        "X_train, X_test, y_train, y_test = train_test_split(X, y, test_size=0.2, random_state=0)"
      ],
      "metadata": {
        "id": "1zoTLEyDLmjR"
      },
      "execution_count": null,
      "outputs": []
    },
    {
      "cell_type": "markdown",
      "source": [
        "**1. Gradient Boosting Machine (GBM)**"
      ],
      "metadata": {
        "id": "xEa6R_NJRWW5"
      }
    },
    {
      "cell_type": "markdown",
      "source": [
        "A Gradient Boosting Machine or GBM combines the predictions from multiple decision trees to generate the final predictions. Keep in mind that all the weak learners in a gradient boosting machine are decision trees.\n",
        "\n",
        "But if we are using the same algorithm, then how is using a hundred decision trees better than using a single decision tree? How do different decision trees capture different signals/information from the data?\n",
        "\n",
        "Here is the trick – the nodes in every decision tree take a different subset of features for selecting the best split. This means that the individual trees aren’t all the same and hence they are able to capture different signals from the data."
      ],
      "metadata": {
        "id": "wKjIzEpqRa1o"
      }
    },
    {
      "cell_type": "code",
      "source": [
        "import xgboost as xgb\n",
        "gbm = xgb.XGBClassifier(max_depth=3, n_estimators=10, learning_rate=0.05, use_label_encoder=False)\n",
        "gbm = gbm.fit(X_train, y_train)"
      ],
      "metadata": {
        "id": "OuvGlHkSOuBr"
      },
      "execution_count": null,
      "outputs": []
    },
    {
      "cell_type": "code",
      "source": [
        "print(\"Accuracy on training set: {:.3f}\".format(gbm.score(X_train, y_train))) \n",
        "print(\"Accuracy on test set: {:.3f}\".format(gbm.score(X_test, y_test)))"
      ],
      "metadata": {
        "colab": {
          "base_uri": "https://localhost:8080/"
        },
        "id": "i-U0aOhSO0D1",
        "outputId": "f153ba41-1424-43ac-8475-766bad3a9bb5"
      },
      "execution_count": null,
      "outputs": [
        {
          "output_type": "stream",
          "name": "stdout",
          "text": [
            "Accuracy on training set: 0.907\n",
            "Accuracy on test set: 0.902\n"
          ]
        }
      ]
    },
    {
      "cell_type": "markdown",
      "source": [
        "**Random Forest Classication Model**"
      ],
      "metadata": {
        "id": "t7HGJ7-oP1vE"
      }
    },
    {
      "cell_type": "code",
      "source": [
        "from sklearn.ensemble import RandomForestClassifier\n",
        "rf = RandomForestClassifier(random_state=46)\n",
        "rf.fit(X_train,y_train)"
      ],
      "metadata": {
        "colab": {
          "base_uri": "https://localhost:8080/"
        },
        "id": "VOa7ekZEPQCc",
        "outputId": "5a73d6ce-ad0b-4f2c-9f29-c047df871312"
      },
      "execution_count": null,
      "outputs": [
        {
          "output_type": "execute_result",
          "data": {
            "text/plain": [
              "RandomForestClassifier(random_state=46)"
            ]
          },
          "metadata": {},
          "execution_count": 38
        }
      ]
    },
    {
      "cell_type": "code",
      "source": [
        "from sklearn.metrics import accuracy_score\n",
        "\n",
        "preds = rf.predict(X_test)\n",
        "print(accuracy_score(preds,y_test))"
      ],
      "metadata": {
        "colab": {
          "base_uri": "https://localhost:8080/"
        },
        "id": "U_TLbEhSPfsZ",
        "outputId": "3894be5c-6332-4e00-edb5-8c947e47e06b"
      },
      "execution_count": null,
      "outputs": [
        {
          "output_type": "stream",
          "name": "stdout",
          "text": [
            "0.9731261268996308\n"
          ]
        }
      ]
    }
  ]
}